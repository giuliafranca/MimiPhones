{
 "cells": [
  {
   "cell_type": "markdown",
   "id": "190bd35f-9fa1-4c85-9bbe-3138fff53fe5",
   "metadata": {},
   "source": [
    "# Instalando Bibliotecas"
   ]
  },
  {
   "cell_type": "code",
   "execution_count": 5,
   "id": "861e4ea9-ec44-488e-aa82-f56fe0a9c059",
   "metadata": {},
   "outputs": [],
   "source": [
    "from sqlalchemy import create_engine\n",
    "import pandas as pd"
   ]
  },
  {
   "cell_type": "markdown",
   "id": "0f79be0d-2a70-4d4c-84a6-fbd2ff749817",
   "metadata": {},
   "source": [
    "## Conectando com o banco"
   ]
  },
  {
   "cell_type": "code",
   "execution_count": 8,
   "id": "0417c2bd-47dc-412d-a68b-48fc7139cffd",
   "metadata": {},
   "outputs": [],
   "source": [
    "engine = create_engine(\"sqlite:///OLTP.db\")"
   ]
  },
  {
   "cell_type": "markdown",
   "id": "6b8255a1-6da9-471e-a4a3-cf06db247b3a",
   "metadata": {},
   "source": [
    "#### Resgatando query de marca e modelo"
   ]
  },
  {
   "cell_type": "code",
   "execution_count": 18,
   "id": "eca370e3-525b-4567-ab99-38f3972e45b8",
   "metadata": {},
   "outputs": [
    {
     "name": "stdout",
     "output_type": "stream",
     "text": [
      "                     Modelo    Marca\n",
      "0             iPhone 13 Pro    Apple\n",
      "1  Samsung Galaxy S21 Ultra  Samsung\n",
      "2        Google Pixel 6 Pro   Google\n",
      "3             OnePlus 9 Pro  OnePlus\n",
      "4        Xiaomi Mi 11 Ultra   Xiamoi\n"
     ]
    }
   ],
   "source": [
    "modelo_query = '''\n",
    "SELECT Mod.Descricao as Modelo\n",
    "    , Mar.Descricao as Marca\n",
    "FROM Modelo as Mod\n",
    "JOIN Marca as Mar on Mod.ID_Marca = Mar.ID_Marca\n",
    "'''\n",
    "\n",
    "df = pd.read_sql(produto_query, engine)\n",
    "print(df.head(5))"
   ]
  },
  {
   "cell_type": "markdown",
   "id": "118a47c2-4265-4664-b375-8f38389b6382",
   "metadata": {},
   "source": [
    "#### Resgatando query de cidade e estado"
   ]
  },
  {
   "cell_type": "code",
   "execution_count": 21,
   "id": "f04345a1-d324-409b-b2a2-f46b923e42a4",
   "metadata": {},
   "outputs": [
    {
     "name": "stdout",
     "output_type": "stream",
     "text": [
      "       Cidade    Estado\n",
      "0  Rio Branco      Acre\n",
      "1      Maceio   Alagoas\n",
      "2      Macapa     Amapa\n",
      "3      Manaus  Amazonas\n",
      "4    Salvador     Bahia\n"
     ]
    }
   ],
   "source": [
    "cep_query = '''\n",
    "SELECT Cid.Descricao as Cidade\n",
    "    , Est.Descricao as Estado\n",
    "FROM Cidade as Cid\n",
    "JOIN Estado as Est on Cid.ID_Estado = Est.ID_Estado\n",
    "'''\n",
    "\n",
    "df = pd.read_sql(cep_query, engine)\n",
    "print(df.head(5))"
   ]
  },
  {
   "cell_type": "markdown",
   "id": "b906ae91-d561-448b-a902-b76f321d89cf",
   "metadata": {},
   "source": [
    "#### Resgatando query de quadrimestre e ano"
   ]
  },
  {
   "cell_type": "markdown",
   "id": "07307879-aa85-4499-853f-5dcdf139c18f",
   "metadata": {},
   "source": [
    "###### A função CAST((CAST... e strftime(... Pode ser suibstituida por EXTRACT ou DATEPART no SQL Server ou outras no Oracle"
   ]
  },
  {
   "cell_type": "code",
   "execution_count": 30,
   "id": "182a0ffb-dcec-4473-a865-af77c1005b6d",
   "metadata": {},
   "outputs": [
    {
     "name": "stdout",
     "output_type": "stream",
     "text": [
      "   Quadrimestre   Ano\n",
      "0             4  2024\n",
      "1             1  2023\n",
      "2             3  2024\n",
      "3             1  2022\n",
      "4             3  2023\n"
     ]
    }
   ],
   "source": [
    "tempo_query = '''\n",
    "SELECT CAST((CAST(strftime('%m', Data) AS INTEGER) + 2) / 3 AS INTEGER) AS Quadrimestre\n",
    "    , strftime('%Y', Data) as Ano\n",
    "FROM Compra\n",
    "'''\n",
    "\n",
    "df = pd.read_sql(tempo_query, engine)\n",
    "print(df.head(5))"
   ]
  },
  {
   "cell_type": "markdown",
   "id": "ef0bdca6-5a60-4fd0-9871-45169deaa992",
   "metadata": {},
   "source": [
    "#### Resgatando query de cliente"
   ]
  },
  {
   "cell_type": "code",
   "execution_count": 38,
   "id": "4c9b1e0a-562a-4974-9184-2ba3f8cad0b5",
   "metadata": {},
   "outputs": [
    {
     "name": "stdout",
     "output_type": "stream",
     "text": [
      "                                            Cliente\n",
      "0  {'ID': 1, 'Estado_civil': 'S', 'Qtde_filhos': 1}\n",
      "1  {'ID': 2, 'Estado_civil': 'C', 'Qtde_filhos': 2}\n",
      "2  {'ID': 3, 'Estado_civil': 'C', 'Qtde_filhos': 4}\n",
      "3  {'ID': 4, 'Estado_civil': 'S', 'Qtde_filhos': 3}\n",
      "4  {'ID': 5, 'Estado_civil': 'C', 'Qtde_filhos': 1}\n"
     ]
    }
   ],
   "source": [
    "df = pd.read_json(r'OLTP\\Clientes_Dados_Complementar.json')\n",
    "\n",
    "print(df.head(5))\n",
    "\n",
    "#precisa tratar ainda"
   ]
  },
  {
   "cell_type": "code",
   "execution_count": null,
   "id": "51a2409e-d539-4ba4-bf42-5d9be832e5cb",
   "metadata": {},
   "outputs": [],
   "source": []
  },
  {
   "cell_type": "code",
   "execution_count": null,
   "id": "6466557f-b0a6-49a0-b0c8-d915a07f1b3a",
   "metadata": {},
   "outputs": [],
   "source": []
  }
 ],
 "metadata": {
  "kernelspec": {
   "display_name": "Python 3 (ipykernel)",
   "language": "python",
   "name": "python3"
  },
  "language_info": {
   "codemirror_mode": {
    "name": "ipython",
    "version": 3
   },
   "file_extension": ".py",
   "mimetype": "text/x-python",
   "name": "python",
   "nbconvert_exporter": "python",
   "pygments_lexer": "ipython3",
   "version": "3.12.6"
  }
 },
 "nbformat": 4,
 "nbformat_minor": 5
}
