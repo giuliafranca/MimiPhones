{
 "cells": [
  {
   "cell_type": "markdown",
   "id": "190bd35f-9fa1-4c85-9bbe-3138fff53fe5",
   "metadata": {},
   "source": [
    "# Instalando Bibliotecas"
   ]
  },
  {
   "cell_type": "code",
   "execution_count": 1,
   "id": "861e4ea9-ec44-488e-aa82-f56fe0a9c059",
   "metadata": {},
   "outputs": [],
   "source": [
    "from sqlalchemy import create_engine\n",
    "from pandas import json_normalize\n",
    "import pandas as pd\n",
    "import json"
   ]
  },
  {
   "cell_type": "markdown",
   "id": "0f79be0d-2a70-4d4c-84a6-fbd2ff749817",
   "metadata": {},
   "source": [
    "## Conectando com o banco"
   ]
  },
  {
   "cell_type": "code",
   "execution_count": 2,
   "id": "0417c2bd-47dc-412d-a68b-48fc7139cffd",
   "metadata": {},
   "outputs": [],
   "source": [
    "engine = create_engine(\"sqlite:///OLTP.db\")"
   ]
  },
  {
   "cell_type": "markdown",
   "id": "6b8255a1-6da9-471e-a4a3-cf06db247b3a",
   "metadata": {},
   "source": [
    "## TABELAS DIMENSÃO"
   ]
  },
  {
   "cell_type": "markdown",
   "id": "c4634f01-75e8-4477-a160-2ca760d8a033",
   "metadata": {},
   "source": [
    "#### Resgatando query de marca e modelo"
   ]
  },
  {
   "cell_type": "code",
   "execution_count": 3,
   "id": "eca370e3-525b-4567-ab99-38f3972e45b8",
   "metadata": {},
   "outputs": [
    {
     "name": "stdout",
     "output_type": "stream",
     "text": [
      "                     ID_Produto                    Modelo    Marca\n",
      "0              iPhone13ProApple             iPhone 13 Pro    Apple\n",
      "1  SamsungGalaxyS21UltraSamsung  Samsung Galaxy S21 Ultra  Samsung\n",
      "2         GooglePixel6ProGoogle        Google Pixel 6 Pro   Google\n",
      "3            OnePlus9ProOnePlus             OnePlus 9 Pro  OnePlus\n",
      "4         XiaomiMi11UltraXiamoi        Xiaomi Mi 11 Ultra   Xiamoi\n"
     ]
    }
   ],
   "source": [
    "produto_query = '''\n",
    "SELECT REPLACE(Mod.Descricao, ' ', '') || Mar.Descricao as ID_Produto\n",
    "    , Mod.Descricao as Modelo\n",
    "    , Mar.Descricao as Marca\n",
    "FROM Modelo as Mod\n",
    "JOIN Marca as Mar on Mod.ID_Marca = Mar.ID_Marca\n",
    "'''\n",
    "\n",
    "df = pd.read_sql(produto_query, engine)\n",
    "print(df.head(5))"
   ]
  },
  {
   "cell_type": "markdown",
   "id": "118a47c2-4265-4664-b375-8f38389b6382",
   "metadata": {},
   "source": [
    "#### Resgatando query de cidade e estado"
   ]
  },
  {
   "cell_type": "code",
   "execution_count": 4,
   "id": "f04345a1-d324-409b-b2a2-f46b923e42a4",
   "metadata": {},
   "outputs": [
    {
     "name": "stdout",
     "output_type": "stream",
     "text": [
      "           ID_Cep      Cidade    Estado\n",
      "0   RioBrancoAcre  Rio Branco      Acre\n",
      "1   MaceioAlagoas      Maceio   Alagoas\n",
      "2     MacapaAmapa      Macapa     Amapa\n",
      "3  ManausAmazonas      Manaus  Amazonas\n",
      "4   SalvadorBahia    Salvador     Bahia\n"
     ]
    }
   ],
   "source": [
    "cep_query = '''\n",
    "WITH CidadesCorrigidas AS (\n",
    "    SELECT \n",
    "        CASE \n",
    "            WHEN Cid.Descricao = 'SP' THEN 'Sao Paulo'\n",
    "            WHEN Cid.Descricao = 'SSA' THEN 'Salvador'\n",
    "            WHEN Cid.Descricao = 'RJ' THEN 'Rio de Janeiro'\n",
    "            ELSE Cid.Descricao\n",
    "        END AS CidadeCorrigida\n",
    "        , Est.Descricao AS Estado\n",
    "    FROM Cidade AS Cid\n",
    "    JOIN Estado AS Est ON Cid.ID_Estado = Est.ID_Estado\n",
    ")\n",
    "SELECT REPLACE(CidadeCorrigida, ' ', '') || Estado AS ID_Cep\n",
    "    , CidadeCorrigida AS Cidade\n",
    "    , Estado\n",
    "FROM CidadesCorrigidas;\n",
    "'''\n",
    "\n",
    "df = pd.read_sql(cep_query, engine)\n",
    "print(df.head(5))"
   ]
  },
  {
   "cell_type": "markdown",
   "id": "b906ae91-d561-448b-a902-b76f321d89cf",
   "metadata": {},
   "source": [
    "#### Resgatando query de quadrimestre e ano"
   ]
  },
  {
   "cell_type": "markdown",
   "id": "07307879-aa85-4499-853f-5dcdf139c18f",
   "metadata": {},
   "source": [
    "###### A função CAST((CAST... e strftime(... Pode ser suibstituida por EXTRACT ou DATEPART no SQL Server ou outras no Oracle"
   ]
  },
  {
   "cell_type": "code",
   "execution_count": 5,
   "id": "182a0ffb-dcec-4473-a865-af77c1005b6d",
   "metadata": {},
   "outputs": [
    {
     "name": "stdout",
     "output_type": "stream",
     "text": [
      "  ID_Tempo  Quadrimestre   Ano\n",
      "0    20243             3  2024\n",
      "1    20231             1  2023\n",
      "2    20242             2  2024\n",
      "3    20221             1  2022\n",
      "4    20232             2  2023\n"
     ]
    }
   ],
   "source": [
    "tempo_query = '''\n",
    "WITH TempoCalculado AS (\n",
    "    SELECT \n",
    "        CASE \n",
    "            WHEN strftime('%m', Data) BETWEEN '01' AND '04' THEN 1\n",
    "            WHEN strftime('%m', Data) BETWEEN '05' AND '08' THEN 2\n",
    "            WHEN strftime('%m', Data) BETWEEN '09' AND '12' THEN 3\n",
    "        END AS Quadrimestre\n",
    "        , strftime('%Y', Data) as Ano\n",
    "    FROM Compra\n",
    ")\n",
    "SELECT Ano || Quadrimestre AS ID_Tempo\n",
    "    , Quadrimestre\n",
    "    , Ano\n",
    "FROM TempoCalculado\n",
    "'''\n",
    "\n",
    "df = pd.read_sql(tempo_query, engine)\n",
    "print(df.head(5))"
   ]
  },
  {
   "cell_type": "markdown",
   "id": "e2665ff7-34fc-42c3-8ee9-04febc0728e2",
   "metadata": {},
   "source": [
    "#### Resgatando cliente"
   ]
  },
  {
   "cell_type": "code",
   "execution_count": 53,
   "id": "0a874cdb-7618-4b4e-91d1-7cef52184f41",
   "metadata": {},
   "outputs": [
    {
     "name": "stdout",
     "output_type": "stream",
     "text": [
      "    ID_Cliente Sexo             Nome\n",
      "0            1    M    Joao da Silva\n",
      "1            2    F   Maria Oliveira\n",
      "2            3    M     Pedro Santos\n",
      "3            4    F        Ana Costa\n",
      "4            5    M  Lucas Rodrigues\n",
      "..         ...  ...              ...\n",
      "85          86    F  Patricia Santos\n",
      "86          87    M   Lucas Oliveira\n",
      "87          88    F     Juliana Lima\n",
      "88          89    M     Pedro Mendes\n",
      "89          90    F    Vanessa Costa\n",
      "\n",
      "[90 rows x 3 columns]\n"
     ]
    }
   ],
   "source": [
    "cliente_query = '''\n",
    "WITH CorrecaoCliente AS(\n",
    "    SELECT ID_Cliente\n",
    "        , CASE \n",
    "            WHEN Sexo = '2' THEN 'M'\n",
    "            WHEN Sexo = '1' THEN 'F'\n",
    "            ELSE Sexo\n",
    "        END AS Sexo\n",
    "        , Nome\n",
    "    FROM Cliente\n",
    ")\n",
    "SELECT *\n",
    "FROM CorrecaoCliente\n",
    "'''\n",
    "\n",
    "df_cliente_sql = pd.read_sql(cliente_query, engine)\n",
    "print(df_cliente_sql)"
   ]
  },
  {
   "cell_type": "code",
   "execution_count": 54,
   "id": "4c9b1e0a-562a-4974-9184-2ba3f8cad0b5",
   "metadata": {},
   "outputs": [
    {
     "name": "stdout",
     "output_type": "stream",
     "text": [
      "   ID_Cliente Estado_civil\n",
      "0           1            S\n",
      "1           2            C\n",
      "2           3            C\n",
      "3           4            S\n",
      "4           5            C\n"
     ]
    }
   ],
   "source": [
    "with open(r'OLTP\\Clientes_Dados_Complementar.json') as f:\n",
    "    data = json.load(f)#### Resgatando query de cliente\n",
    "\n",
    "df_cliente_json = json_normalize(data, 'Cliente', sep='_')\n",
    "df_cliente_json = df_cliente_json.rename(columns={'ID': 'ID_Cliente'})\n",
    "print(df_cliente_json.head(5).drop('Qtde_filhos',axis=1))"
   ]
  },
  {
   "cell_type": "code",
   "execution_count": 56,
   "id": "ea8b6807-cee8-4eba-a096-3522b6f02d03",
   "metadata": {},
   "outputs": [
    {
     "name": "stdout",
     "output_type": "stream",
     "text": [
      "   ID_Cliente Sexo             Nome Estado_civil  Qtde_filhos\n",
      "0           1    M    Joao da Silva            S            1\n",
      "1           2    F   Maria Oliveira            C            2\n",
      "2           3    M     Pedro Santos            C            4\n",
      "3           4    F        Ana Costa            S            3\n",
      "4           5    M  Lucas Rodrigues            C            1\n"
     ]
    }
   ],
   "source": [
    "df_merged = pd.merge(df_cliente_sql, df_cliente_json, on=\"ID_Cliente\", how=\"inner\")\n",
    "print(df_merged.head(5))"
   ]
  },
  {
   "cell_type": "raw",
   "id": "2cd765c7-de10-4086-b15e-02326ec33adc",
   "metadata": {},
   "source": [
    "Fiquei confusa aqui. Tem a tabela cliente com as informações de sexo e tem o json do cliente com a informação que vamos efetivamente comparar. Preciso guardar todas as informações no banco? Na dúvida eu eu fiz o fluxo unindo as tabelas, mas caso nao seja necessário é só usar a segunda string."
   ]
  },
  {
   "cell_type": "markdown",
   "id": "b912e6c9-8f97-4429-8a98-c59c209c43fc",
   "metadata": {},
   "source": [
    "## TABELAS FATO"
   ]
  },
  {
   "cell_type": "markdown",
   "id": "df6b663b-f8ba-40d9-8c84-afeb11fa258d",
   "metadata": {},
   "source": [
    "#### Resgatando Concorrentes"
   ]
  },
  {
   "cell_type": "code",
   "execution_count": 35,
   "id": "bfed1dda-359d-46b5-a125-47c5f10ea788",
   "metadata": {},
   "outputs": [
    {
     "name": "stdout",
     "output_type": "stream",
     "text": [
      "    Ano     Valor  Quantidade  Quadrimestre ID_Tempo\n",
      "0  2021   3000,00           3             1    20211\n",
      "1  2021   9700,00           8             1    20211\n",
      "2  2021  13500,00          10             1    20211\n",
      "3  2021  16700,00          14             1    20211\n",
      "4  2021   2700,00           3             2    20212\n"
     ]
    }
   ],
   "source": [
    "df = pd.read_csv(r'.\\OLTP\\Concorrente.csv', encoding='latin-1', sep=';')\n",
    "df[\"Quadrimestre\"] = pd.cut(\n",
    "    df[\"Mês\"],\n",
    "    bins=[0, 4, 8, 12],   # faixas: 1–4, 5–8, 9–12\n",
    "    labels=[1, 2, 3]\n",
    ").astype(int)\n",
    "df[\"ID_Tempo\"] = df[\"Ano\"].astype(str) + df[\"Quadrimestre\"].astype(str)\n",
    "\n",
    "print(df.head(5).drop(columns=[\"Mês\"]))"
   ]
  },
  {
   "cell_type": "markdown",
   "id": "b535ddaa-f19a-4caa-bd31-9bf023792115",
   "metadata": {},
   "source": [
    "#### Resgatando Histórico MimiPhones"
   ]
  },
  {
   "cell_type": "code",
   "execution_count": 60,
   "id": "f680aa99-1acc-48a5-8501-b64fea9ef1f1",
   "metadata": {},
   "outputs": [
    {
     "name": "stdout",
     "output_type": "stream",
     "text": [
      "Empty DataFrame\n",
      "Columns: [Valor, Quantidade, Modelo, Marca, Cidade, Estado, ID_Cliente]\n",
      "Index: []\n"
     ]
    }
   ],
   "source": [
    "mimi_query = '''\n",
    "SELECT Car.Valor\n",
    "    , Car.Quantidade\n",
    "    , Mod.Descricao as Modelo\n",
    "    , Mar.Descricao as Marca\n",
    "    , Cid.Descricao as Cidade\n",
    "    , Est.Descricao as Estado\n",
    "    , Cli.ID_Cliente\n",
    "FROM Carrinho AS Car\n",
    "JOIN Aparelho AS Apa ON Apa.ID_Aparelho = Car.ID_Aparelho\n",
    "JOIN Modelo AS Mod ON Mod.ID_Modelo = Apa.ID_Modelo\n",
    "JOIN Marca AS Mar ON Mar.ID_Marca = Mod.ID_Marca\n",
    "JOIN Compra AS Com ON Com.ID_Compra = Car.ID_Compra\n",
    "JOIN Cliente as Cli ON Cli.ID_Cliente = Com.ID_Cliente\n",
    "JOIN Cidade as Cid ON Cid.ID_Cidade = Cli.ID_Cidade\n",
    "JOIN Estado as Est ON Est.ID_Estado = Cid.ID_Estado\n",
    "'''\n",
    "\n",
    "df = pd.read_sql(mimi_query, engine)\n",
    "print(df.head(5))\n",
    "\n",
    "# WIP"
   ]
  },
  {
   "cell_type": "code",
   "execution_count": 59,
   "id": "3f773424-e783-40b1-82fd-4c634be565a0",
   "metadata": {},
   "outputs": [],
   "source": [
    "#     SELECT \n",
    "#         CASE \n",
    "#             WHEN Cid.Descricao = 'SP' THEN 'Sao Paulo'\n",
    "#             WHEN Cid.Descricao = 'SSA' THEN 'Salvador'\n",
    "#             WHEN Cid.Descricao = 'RJ' THEN 'Rio de Janeiro'\n",
    "#             ELSE Cid.Descricao\n",
    "#         END AS CidadeCorrigida\n",
    "#         , Est.Descricao AS Estado\n",
    "#     FROM Cidade AS Cid\n",
    "#     JOIN Estado AS Est ON Cid.ID_Estado = Est.ID_Estado\n",
    "\n",
    "# WITH TempoCalculado AS (\n",
    "#     SELECT REPLACE(Mod.Descricao, ' ', '') || Mar.Descricao as ID_Produto\n",
    "#         , CASE \n",
    "#             WHEN strftime('%m', Data) BETWEEN '01' AND '04' THEN 1\n",
    "#             WHEN strftime('%m', Data) BETWEEN '05' AND '08' THEN 2\n",
    "#             WHEN strftime('%m', Data) BETWEEN '09' AND '12' THEN 3\n",
    "#         END AS Quadrimestre\n",
    "#         , strftime('%Y', Data) as Ano\n",
    "#     FROM Compra\n",
    "# )\n",
    "\n",
    "# grande rascunho favor ignorar"
   ]
  }
 ],
 "metadata": {
  "kernelspec": {
   "display_name": "Python 3 (ipykernel)",
   "language": "python",
   "name": "python3"
  },
  "language_info": {
   "codemirror_mode": {
    "name": "ipython",
    "version": 3
   },
   "file_extension": ".py",
   "mimetype": "text/x-python",
   "name": "python",
   "nbconvert_exporter": "python",
   "pygments_lexer": "ipython3",
   "version": "3.12.3"
  }
 },
 "nbformat": 4,
 "nbformat_minor": 5
}
