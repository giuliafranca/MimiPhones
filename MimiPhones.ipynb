{
 "cells": [
  {
   "cell_type": "markdown",
   "id": "190bd35f-9fa1-4c85-9bbe-3138fff53fe5",
   "metadata": {},
   "source": [
    "# Instalando Bibliotecas"
   ]
  },
  {
   "cell_type": "code",
   "execution_count": 1,
   "id": "861e4ea9-ec44-488e-aa82-f56fe0a9c059",
   "metadata": {},
   "outputs": [],
   "source": [
    "from sqlalchemy import create_engine\n",
    "from pandas import json_normalize\n",
    "import pandas as pd\n",
    "import json"
   ]
  },
  {
   "cell_type": "markdown",
   "id": "0f79be0d-2a70-4d4c-84a6-fbd2ff749817",
   "metadata": {},
   "source": [
    "## Conectando com o banco"
   ]
  },
  {
   "cell_type": "code",
   "execution_count": 4,
   "id": "0417c2bd-47dc-412d-a68b-48fc7139cffd",
   "metadata": {},
   "outputs": [],
   "source": [
    "engine = create_engine(\"sqlite:///OLTP.db\")"
   ]
  },
  {
   "cell_type": "markdown",
   "id": "6b8255a1-6da9-471e-a4a3-cf06db247b3a",
   "metadata": {},
   "source": [
    "#### Resgatando query de marca e modelo"
   ]
  },
  {
   "cell_type": "code",
   "execution_count": 13,
   "id": "eca370e3-525b-4567-ab99-38f3972e45b8",
   "metadata": {},
   "outputs": [
    {
     "name": "stdout",
     "output_type": "stream",
     "text": [
      "                     ID_Produto                    Modelo    Marca\n",
      "0              iPhone13ProApple             iPhone 13 Pro    Apple\n",
      "1  SamsungGalaxyS21UltraSamsung  Samsung Galaxy S21 Ultra  Samsung\n",
      "2         GooglePixel6ProGoogle        Google Pixel 6 Pro   Google\n",
      "3            OnePlus9ProOnePlus             OnePlus 9 Pro  OnePlus\n",
      "4         XiaomiMi11UltraXiamoi        Xiaomi Mi 11 Ultra   Xiamoi\n"
     ]
    }
   ],
   "source": [
    "produto_query = '''\n",
    "SELECT REPLACE(Mod.Descricao, ' ', '') || Mar.Descricao as ID_Produto\n",
    "    , Mod.Descricao as Modelo\n",
    "    , Mar.Descricao as Marca\n",
    "FROM Modelo as Mod\n",
    "JOIN Marca as Mar on Mod.ID_Marca = Mar.ID_Marca\n",
    "'''\n",
    "\n",
    "df = pd.read_sql(produto_query, engine)\n",
    "print(df.head(5))"
   ]
  },
  {
   "cell_type": "markdown",
   "id": "118a47c2-4265-4664-b375-8f38389b6382",
   "metadata": {},
   "source": [
    "#### Resgatando query de cidade e estado"
   ]
  },
  {
   "cell_type": "code",
   "execution_count": 22,
   "id": "f04345a1-d324-409b-b2a2-f46b923e42a4",
   "metadata": {},
   "outputs": [
    {
     "name": "stdout",
     "output_type": "stream",
     "text": [
      "           ID_Cep      Cidade    Estado\n",
      "0   RioBrancoAcre  Rio Branco      Acre\n",
      "1   MaceioAlagoas      Maceio   Alagoas\n",
      "2     MacapaAmapa      Macapa     Amapa\n",
      "3  ManausAmazonas      Manaus  Amazonas\n",
      "4   SalvadorBahia    Salvador     Bahia\n"
     ]
    }
   ],
   "source": [
    "cep_query = '''\n",
    "WITH CidadesCorrigidas AS (\n",
    "    SELECT \n",
    "        CASE \n",
    "            WHEN Cid.Descricao = 'SP' THEN 'Sao Paulo'\n",
    "            WHEN Cid.Descricao = 'SSA' THEN 'Salvador'\n",
    "            WHEN Cid.Descricao = 'RJ' THEN 'Rio de Janeiro'\n",
    "            ELSE Cid.Descricao\n",
    "        END AS CidadeCorrigida\n",
    "        , Est.Descricao AS Estado\n",
    "    FROM Cidade AS Cid\n",
    "    JOIN Estado AS Est ON Cid.ID_Estado = Est.ID_Estado\n",
    ")\n",
    "SELECT REPLACE(CidadeCorrigida, ' ', '') || Estado AS ID_Cep\n",
    "    , CidadeCorrigida AS Cidade\n",
    "    , Estado\n",
    "FROM CidadesCorrigidas;\n",
    "'''\n",
    "\n",
    "df = pd.read_sql(cep_query, engine)\n",
    "print(df.head(5))"
   ]
  },
  {
   "cell_type": "markdown",
   "id": "b906ae91-d561-448b-a902-b76f321d89cf",
   "metadata": {},
   "source": [
    "#### Resgatando query de quadrimestre e ano"
   ]
  },
  {
   "cell_type": "markdown",
   "id": "07307879-aa85-4499-853f-5dcdf139c18f",
   "metadata": {},
   "source": [
    "###### A função CAST((CAST... e strftime(... Pode ser suibstituida por EXTRACT ou DATEPART no SQL Server ou outras no Oracle"
   ]
  },
  {
   "cell_type": "code",
   "execution_count": 25,
   "id": "182a0ffb-dcec-4473-a865-af77c1005b6d",
   "metadata": {},
   "outputs": [
    {
     "name": "stdout",
     "output_type": "stream",
     "text": [
      "  ID_Tempo  Quadrimestre   Ano\n",
      "0    20243             3  2024\n",
      "1    20231             1  2023\n",
      "2    20242             2  2024\n",
      "3    20221             1  2022\n",
      "4    20232             2  2023\n"
     ]
    }
   ],
   "source": [
    "tempo_query = '''\n",
    "WITH TempoCalculado AS (\n",
    "    SELECT \n",
    "        CASE \n",
    "            WHEN strftime('%m', Data) BETWEEN '01' AND '04' THEN 1\n",
    "            WHEN strftime('%m', Data) BETWEEN '05' AND '08' THEN 2\n",
    "            WHEN strftime('%m', Data) BETWEEN '09' AND '12' THEN 3\n",
    "        END AS Quadrimestre\n",
    "        , strftime('%Y', Data) as Ano\n",
    "    FROM Compra\n",
    ")\n",
    "SELECT Ano || Quadrimestre AS ID_Tempo\n",
    "    , Quadrimestre\n",
    "    , Ano\n",
    "FROM TempoCalculado\n",
    "'''\n",
    "\n",
    "df = pd.read_sql(tempo_query, engine)\n",
    "print(df.head(5))"
   ]
  },
  {
   "cell_type": "markdown",
   "id": "e2665ff7-34fc-42c3-8ee9-04febc0728e2",
   "metadata": {},
   "source": [
    "#### Resgatando cliente"
   ]
  },
  {
   "cell_type": "code",
   "execution_count": 29,
   "id": "4c9b1e0a-562a-4974-9184-2ba3f8cad0b5",
   "metadata": {},
   "outputs": [
    {
     "name": "stdout",
     "output_type": "stream",
     "text": [
      "    ID_Cliente Estado_civil\n",
      "0            1            S\n",
      "1            2            C\n",
      "2            3            C\n",
      "3            4            S\n",
      "4            5            C\n",
      "..         ...          ...\n",
      "85          86            C\n",
      "86          87            S\n",
      "87          88            C\n",
      "88          89            C\n",
      "89          90            C\n",
      "\n",
      "[90 rows x 2 columns]\n"
     ]
    }
   ],
   "source": [
    "with open(r'OLTP\\Clientes_Dados_Complementar.json') as f:\n",
    "    data = json.load(f)#### Resgatando query de cliente\n",
    "\n",
    "df = json_normalize(data, 'Cliente', sep='_')\n",
    "df = df.rename(columns={'ID': 'ID_Cliente'})\n",
    "print(df.drop('Qtde_filhos',axis=1))"
   ]
  }
 ],
 "metadata": {
  "kernelspec": {
   "display_name": "Python 3 (ipykernel)",
   "language": "python",
   "name": "python3"
  },
  "language_info": {
   "codemirror_mode": {
    "name": "ipython",
    "version": 3
   },
   "file_extension": ".py",
   "mimetype": "text/x-python",
   "name": "python",
   "nbconvert_exporter": "python",
   "pygments_lexer": "ipython3",
   "version": "3.12.6"
  }
 },
 "nbformat": 4,
 "nbformat_minor": 5
}
